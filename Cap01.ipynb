{
 "cells": [
  {
   "cell_type": "markdown",
   "metadata": {},
   "source": [
    "# Capítulo 01 - Introdução"
   ]
  },
  {
   "cell_type": "markdown",
   "metadata": {},
   "source": [
    "> O cientista de dados é aquele que extrai conhecimento de dados desorganizados."
   ]
  },
  {
   "cell_type": "markdown",
   "metadata": {},
   "source": [
    "## Motivação hipotética: *DataSciencester*\n",
    "\n",
    "> página 3\n",
    "\n",
    "**Objetivo**: Identificar os \"conectores-chave\" entre os cientistas de dados e, para isso, lhe dá um `data dump` da rede DataSciencester\n",
    "\n",
    "**data dump:** Lista em que cada usuário é representado por um `dict` que contém o seu `id` e seu `name`\n"
   ]
  },
  {
   "cell_type": "code",
   "execution_count": 23,
   "metadata": {},
   "outputs": [],
   "source": [
    "users = [\n",
    "    {'id': 0, 'name': 'Hero'},\n",
    "    {'id': 1, 'name': 'Dunn'},\n",
    "    {'id': 2, 'name': 'Sue'},\n",
    "    {'id': 3, 'name': 'Chi'},\n",
    "    {'id': 4, 'name': 'Thor'},\n",
    "    {'id': 5, 'name': 'Clive'},\n",
    "    {'id': 6, 'name': 'Hicks'},\n",
    "    {'id': 7, 'name': 'Devin'},\n",
    "    {'id': 8, 'name': 'Kate'},\n",
    "    {'id': 9, 'name': 'Klein'},\n",
    "]"
   ]
  },
  {
   "cell_type": "markdown",
   "metadata": {},
   "source": [
    "Os dados de amizades estão reunidos em uma lista de pares de ID:"
   ]
  },
  {
   "cell_type": "code",
   "execution_count": 24,
   "metadata": {},
   "outputs": [],
   "source": [
    "friendship_pairs = [(0,1),(0,2), # Hero é amigo de Dunn e Sue\n",
    "                    (1,2),(1,3), # Dunn é amigo de Sue e Chi\n",
    "                    (2,3),       # Sue é amiga de Chi\n",
    "                    (3,4),       # ... e assim por diante\n",
    "                    (4,5),\n",
    "                    (5,6),(5,7),\n",
    "                    (6,8),\n",
    "                    (7,8),\n",
    "                    (8,9)\n",
    "                    ]"
   ]
  },
  {
   "cell_type": "code",
   "execution_count": 25,
   "metadata": {},
   "outputs": [
    {
     "data": {
      "text/plain": [
       "[(0, 1),\n",
       " (0, 2),\n",
       " (1, 2),\n",
       " (1, 3),\n",
       " (2, 3),\n",
       " (3, 4),\n",
       " (4, 5),\n",
       " (5, 6),\n",
       " (5, 7),\n",
       " (6, 8),\n",
       " (7, 8),\n",
       " (8, 9)]"
      ]
     },
     "execution_count": 25,
     "metadata": {},
     "output_type": "execute_result"
    }
   ],
   "source": [
    "friendship_pairs"
   ]
  },
  {
   "cell_type": "markdown",
   "metadata": {},
   "source": [
    "Representar  as amizades por lista de pares não é muito eficiente. Para encontrar todas as amizades do usuário 1, você precisa iterar todos os pares em busca dos que contém o 1.\n",
    "\n",
    "É melhor usar um `dict`."
   ]
  },
  {
   "cell_type": "code",
   "execution_count": 26,
   "metadata": {},
   "outputs": [],
   "source": [
    "# inicialize o dict com uma lista vazia para cada id de usuário:\n",
    "\n",
    "friendships = {user['id']: [] for user in users}\n",
    "\n",
    "# em seguida, execute um loop pelos pares de amigos para preenchê-la:\n",
    "\n",
    "for i, j in friendship_pairs:\n",
    "    friendships[i].append(j) # adicione j como amigo do usuário i\n",
    "    friendships[j].append(i) # adicione i como amigo do usuário j"
   ]
  },
  {
   "cell_type": "markdown",
   "metadata": {},
   "source": [
    "- Total de conexão:"
   ]
  },
  {
   "cell_type": "code",
   "execution_count": 27,
   "metadata": {},
   "outputs": [],
   "source": [
    "def number_of_friends(user):\n",
    "    \"\"\"calcula quantos amigos tem o _user_\n",
    "\n",
    "    Args:\n",
    "        user (dict): dicionário do usuário\n",
    "    \"\"\"\n",
    "    user_id = user['id']\n",
    "    friend_ids = friendship[user_id]\n",
    "    return len(friend_ids)"
   ]
  },
  {
   "cell_type": "code",
   "execution_count": 28,
   "metadata": {},
   "outputs": [],
   "source": [
    "total_connections = sum(number_of_friends(user)\n",
    "                        for user in users)"
   ]
  },
  {
   "cell_type": "code",
   "execution_count": 29,
   "metadata": {},
   "outputs": [
    {
     "name": "stdout",
     "output_type": "stream",
     "text": [
      "Total de conexões: 24.\n"
     ]
    }
   ],
   "source": [
    "print(f'Total de conexões: {total_connections}.')"
   ]
  },
  {
   "cell_type": "markdown",
   "metadata": {},
   "source": [
    "- media de conexões"
   ]
  },
  {
   "cell_type": "code",
   "execution_count": 30,
   "metadata": {},
   "outputs": [],
   "source": [
    "num_users = len(users)\n",
    "avg_connection = total_connections / num_users"
   ]
  },
  {
   "cell_type": "code",
   "execution_count": 31,
   "metadata": {},
   "outputs": [
    {
     "name": "stdout",
     "output_type": "stream",
     "text": [
      "Média de conexões: 2.4.\n"
     ]
    }
   ],
   "source": [
    "print(f'Média de conexões: {avg_connection}.')"
   ]
  },
  {
   "cell_type": "markdown",
   "metadata": {},
   "source": [
    "- as pessoas mais conectadas (as que possuem o maior número de amigos):"
   ]
  },
  {
   "cell_type": "markdown",
   "metadata": {},
   "source": [
    "Como o número de usuários não é muito grande, podemos colocá-los em ordem decrescente, dos que têm 'mais amigos' para os que têm 'menos amigos':"
   ]
  },
  {
   "cell_type": "code",
   "execution_count": 32,
   "metadata": {},
   "outputs": [],
   "source": [
    "# crie uma lista (user_id, number_of_friends).\n",
    "num_friends_by_id = [(user['id'], number_of_friends(user))\n",
    "                     for user in users]"
   ]
  },
  {
   "cell_type": "code",
   "execution_count": 33,
   "metadata": {},
   "outputs": [],
   "source": [
    "num_friends_by_id.sort(\n",
    "    key = lambda id_and_friends: id_and_friends[1],\n",
    "    reverse = True)"
   ]
  },
  {
   "cell_type": "code",
   "execution_count": 34,
   "metadata": {},
   "outputs": [
    {
     "name": "stdout",
     "output_type": "stream",
     "text": [
      "id, qtd amigos\n"
     ]
    },
    {
     "data": {
      "text/plain": [
       "[(1, 3),\n",
       " (2, 3),\n",
       " (3, 3),\n",
       " (5, 3),\n",
       " (8, 3),\n",
       " (0, 2),\n",
       " (4, 2),\n",
       " (6, 2),\n",
       " (7, 2),\n",
       " (9, 1)]"
      ]
     },
     "execution_count": 34,
     "metadata": {},
     "output_type": "execute_result"
    }
   ],
   "source": [
    "print('id, qtd amigos')\n",
    "num_friends_by_id"
   ]
  },
  {
   "cell_type": "markdown",
   "metadata": {},
   "source": [
    "### Cientistas de dados que você talvez conheça"
   ]
  },
  {
   "cell_type": "code",
   "execution_count": 35,
   "metadata": {},
   "outputs": [],
   "source": [
    "def foaf_ids_bad(user):\n",
    "    \"\"\"foaf significa 'friend of a friend'\n",
    "\n",
    "    Args:\n",
    "        user (_type_): Usuário da rede social de data science\n",
    "    \"\"\"\n",
    "    return [foaf_id \n",
    "            for friend_id in friendships[user['id']]\n",
    "            for foaf_id in friendships[friend_id]]"
   ]
  },
  {
   "cell_type": "code",
   "execution_count": 37,
   "metadata": {},
   "outputs": [
    {
     "name": "stdout",
     "output_type": "stream",
     "text": [
      "Amigos de Hero\n"
     ]
    },
    {
     "data": {
      "text/plain": [
       "[0, 2, 3, 0, 1, 3]"
      ]
     },
     "execution_count": 37,
     "metadata": {},
     "output_type": "execute_result"
    }
   ],
   "source": [
    "print('Amigos de Hero')\n",
    "foaf_ids_bad(users[0])\n"
   ]
  },
  {
   "cell_type": "markdown",
   "metadata": {},
   "source": [
    "Contagem de amigos em comum, excluindo as pessoas que o usuário já conhece"
   ]
  },
  {
   "cell_type": "code",
   "execution_count": 2,
   "metadata": {},
   "outputs": [],
   "source": [
    "# ! pip install Counter\n",
    "from collections import Counter"
   ]
  },
  {
   "cell_type": "code",
   "execution_count": 45,
   "metadata": {},
   "outputs": [],
   "source": [
    "def friends_of_friends(user):\n",
    "    \"\"\"Contagem de amigos em comum\n",
    "\n",
    "    Args:\n",
    "        user (_type_): usuário da rede social\n",
    "    \"\"\"\n",
    "    user_id = user['id']\n",
    "    return Counter(\n",
    "        foaf_id\n",
    "        for friend_id in friendships[user_id]   # para cada amigo meu,\n",
    "        for foaf_id in  friendships[friend_id]  # encontre os amigos deles\n",
    "        if foaf_id != user_id                   # que não sejam eu\n",
    "        and foaf_id not in friendships[user_id] # e não sejam meus amigos\n",
    "    )"
   ]
  },
  {
   "cell_type": "code",
   "execution_count": 47,
   "metadata": {},
   "outputs": [
    {
     "name": "stdout",
     "output_type": "stream",
     "text": [
      "Counter({0: 2, 5: 1})\n"
     ]
    }
   ],
   "source": [
    "print(friends_of_friends(users[3]))"
   ]
  },
  {
   "cell_type": "markdown",
   "metadata": {},
   "source": [
    "Chi possui dois amigos em comum com Hero e um amigo em comum com Clive"
   ]
  },
  {
   "cell_type": "code",
   "execution_count": 50,
   "metadata": {},
   "outputs": [],
   "source": [
    "interests =[\n",
    "    (0,'Hadoop'), (0,'Big Data'),(0,'HBase'),(0,'Java'),\n",
    "    (0,'Spark'), (0,'Storm'),(0,'Cassandra'), \n",
    "    (1,'NoSQL'), (1,'MongoDB'),(1, 'Cassandra'),(1, 'HBase'),\n",
    "    (1,'Postgres'), (2, 'Python'), (1, 'Cassandra'), (1, 'HBase'),\n",
    "    (1, 'Postgres'), (2, 'Python'), (2, 'scikit-learn'), (2, 'scipy'),\n",
    "    (2,'numpy'),(2,'statsmodels'),(2,'pandas'),(3, 'R'), (3, 'Python'),\n",
    "    (3,'statistics'),(3, 'regression'), (3, 'probability'),\n",
    "    (4, 'machine learning'), (4, 'regression'), (4, 'decision trees'),\n",
    "    (4,'libsvn'),(5, 'Python'),(5, 'R'), (5,'Java'),(5, 'C++'),\n",
    "    (5,'Haskell'),(5,'programming languages'),(6,'statistics'),\n",
    "    (6, 'probability'), (6, 'mathematics'), (6,'theory'),\n",
    "    (7,'machine learning'),(7,'scikit-learn'),(7,'Mahout'),\n",
    "    (7, 'neural networks'),(8,'neural networks'), (8, 'deep learning'),\n",
    "    (8, 'Big Data'), (8, 'artificial intelligence'), (9, 'Hadoop'),\n",
    "    (9,'Java'), (9,'MapReduce'), (9, 'Big Data')]"
   ]
  },
  {
   "cell_type": "markdown",
   "metadata": {},
   "source": [
    "função para encontrar amigos por interesse em comum"
   ]
  },
  {
   "cell_type": "code",
   "execution_count": 3,
   "metadata": {},
   "outputs": [],
   "source": [
    "def data_scientists_who_like(target_interest):\n",
    "    \"\"\"\n",
    "    encontre os ids dos usuários com interesse em comum\n",
    "    Args:\n",
    "        target_interest (_type_): interesse do usuário\n",
    "    \"\"\"\n",
    "    return [user_id \n",
    "            for user_id, user_interest in interests\n",
    "            if user_interest == target_interest]"
   ]
  },
  {
   "cell_type": "markdown",
   "metadata": {},
   "source": [
    "a função precisa examinar a lista de interesses inteira a cada busca, o que não é otimizado"
   ]
  },
  {
   "cell_type": "markdown",
   "metadata": {},
   "source": [
    "Salários e Experiências"
   ]
  },
  {
   "cell_type": "code",
   "execution_count": 4,
   "metadata": {},
   "outputs": [],
   "source": [
    "from collections import defaultdict"
   ]
  },
  {
   "cell_type": "code",
   "execution_count": 11,
   "metadata": {},
   "outputs": [],
   "source": [
    "salaries_and_tenures  = [(83000, 8.7), (88000, 8.1),\n",
    "                         (48000, 0.7), (76000, 6),\n",
    "                         (69000, 6.5), (83000, 7.5),\n",
    "                         (60000, 2.5), (83000, 10),\n",
    "                         (48000, 1.9), (63000, 4.2)]"
   ]
  },
  {
   "cell_type": "code",
   "execution_count": 12,
   "metadata": {},
   "outputs": [],
   "source": [
    "# as chaves são anos, os valores são listas de salários por anos de experiência\n",
    "\n",
    "salary_by_tenure = defaultdict(list)\n",
    "\n",
    "for salary, tenure in salaries_and_tenures:\n",
    "    salary_by_tenure[tenure].append(salary)"
   ]
  },
  {
   "cell_type": "code",
   "execution_count": 13,
   "metadata": {},
   "outputs": [],
   "source": [
    "# as chaves são anos, cada valor é o salário médio associado ao numero de anos de exp\n",
    "\n",
    "average_salary_by_tenure = {\n",
    "    tenure: sum(salaries)/len(salaries)\n",
    "\n",
    "    for tenure, salaries in salary_by_tenure.items()\n",
    "}"
   ]
  },
  {
   "cell_type": "code",
   "execution_count": 14,
   "metadata": {},
   "outputs": [],
   "source": [
    "def tenure_bucket(ternure):\n",
    "    if tenure < 2:\n",
    "        return \"less than two\"\n",
    "    elif tenure < 5:\n",
    "        return \"between two and five\"\n",
    "    else:\n",
    "        return \"more than five\""
   ]
  },
  {
   "cell_type": "code",
   "execution_count": 15,
   "metadata": {},
   "outputs": [],
   "source": [
    "# agrupando os salarios nos grupos\n",
    "# As chaves são buckets de anos de experiência, os valores são as listas de salários associadas ao bucket em questão.\n",
    "salary_by_tenure_bucket = defaultdict(list)\n",
    "\n",
    "for salary, tenure in salaries_and_ternures:\n",
    "    bucket = tenure_bucket(tenure)\n",
    "    salary_by_tenure_bucket[bucket].append(salary)\n"
   ]
  },
  {
   "cell_type": "code",
   "execution_count": 17,
   "metadata": {},
   "outputs": [],
   "source": [
    "# E, finalmente, computamos a média salarial de cada grupo:\n",
    "# As chaves são buckets de anos de experiência, os valores são a média salarial do bucket em questão.\n",
    "average_salary_by_bucket = {\n",
    "    tenure_bucket: sum(salaries) / len(salaries)\n",
    "    for tenure_bucket, salaries in salary_by_tenure_bucket.items()\n",
    "}"
   ]
  },
  {
   "cell_type": "code",
   "execution_count": 18,
   "metadata": {},
   "outputs": [
    {
     "data": {
      "text/plain": [
       "{'more than five': 80333.33333333333,\n",
       " 'less than two': 48000.0,\n",
       " 'between two and five': 61500.0}"
      ]
     },
     "execution_count": 18,
     "metadata": {},
     "output_type": "execute_result"
    }
   ],
   "source": [
    "average_salary_by_bucket"
   ]
  },
  {
   "cell_type": "markdown",
   "metadata": {},
   "source": [
    "### tópicos de interesse"
   ]
  },
  {
   "cell_type": "code",
   "execution_count": null,
   "metadata": {},
   "outputs": [],
   "source": []
  }
 ],
 "metadata": {
  "kernelspec": {
   "display_name": "Python 3",
   "language": "python",
   "name": "python3"
  },
  "language_info": {
   "codemirror_mode": {
    "name": "ipython",
    "version": 3
   },
   "file_extension": ".py",
   "mimetype": "text/x-python",
   "name": "python",
   "nbconvert_exporter": "python",
   "pygments_lexer": "ipython3",
   "version": "3.11.9"
  }
 },
 "nbformat": 4,
 "nbformat_minor": 2
}
